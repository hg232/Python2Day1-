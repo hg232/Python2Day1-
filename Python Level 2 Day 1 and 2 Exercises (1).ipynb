{
 "cells": [
  {
   "cell_type": "markdown",
   "metadata": {},
   "source": [
    "Please make a class called Home that has 5 variables. The variables/attributes should be price, rooms, size, bathrooms, location. Please add a method/function that will display or print the information out nicely and neatly."
   ]
  },
  {
   "cell_type": "code",
   "execution_count": null,
   "metadata": {},
   "outputs": [],
   "source": [
    "class Home (object):\n",
    "    def __init__(self, price, rooms, size, bathrooms, location):\n",
    "        self.price = price\n",
    "        self.rooms = rooms\n",
    "        self.size = size\n",
    "        self.bathrooms = bathrooms\n",
    "        self.location = location\n",
    "    def show(self):\n",
    "        print(f\"The {self.size} house is located in {self.location}. The price is {self.price}. And, there are {self.rooms} rooms, and this many bathrooms: {self.bathrooms}. \")\n",
    "        \n",
    "Example1 = Home(100000, 3, \"big\", 10, \"Hollywood\")\n",
    "Example1.show()"
   ]
  },
  {
   "cell_type": "markdown",
   "metadata": {},
   "source": [
    "Please create an instance of the Home class and give it 300000 for the price, 4 rooms, 4500 sqft, 3.5 bathrooms, and Cloverly,Maryland for the location. Please use your function to print out the information for yourself."
   ]
  },
  {
   "cell_type": "code",
   "execution_count": null,
   "metadata": {},
   "outputs": [],
   "source": [
    "Example2 = Home(300000, 4, \"4500 sqft\", 3.5, \"Cloverly, MD\")\n",
    "Example2.show()"
   ]
  },
  {
   "cell_type": "markdown",
   "metadata": {},
   "source": [
    "Please change the attribute called rooms from 4 to 4.5 now. and Print out the information again."
   ]
  },
  {
   "cell_type": "code",
   "execution_count": null,
   "metadata": {},
   "outputs": [],
   "source": [
    "Example2 = Home(300000, 4.5 , \"4500 sqft\", 3.5, \"Cloverly, MD\")\n",
    "Example2.show()"
   ]
  },
  {
   "cell_type": "markdown",
   "metadata": {},
   "source": [
    "Please create a class called Friend with 2 variables. called name and called relationship which is the relationship to you.\n",
    "Please create a class called Me with 3 variables. your name,last name, and friends."
   ]
  },
  {
   "cell_type": "code",
   "execution_count": null,
   "metadata": {},
   "outputs": [],
   "source": [
    "class friend():\n",
    "    def __init__(self, name, relationship):\n",
    "        self.name = name\n",
    "        self.relationship = relationship  \n",
    "class Me(friend):\n",
    "    def __init__(self, name, relationship, fname, lname, friends):\n",
    "        super().__init__(name, relationship)\n",
    "        self.fname = fname\n",
    "        self.lname = lname\n",
    "        self.friends = friends\n",
    "\n"
   ]
  },
  {
   "cell_type": "markdown",
   "metadata": {},
   "source": [
    "Make an 3 instances of the friend class and one instance of the Me class. Please add each of your friends into the friends variable. (Hint think of an empty list for the contructor)"
   ]
  },
  {
   "cell_type": "code",
   "execution_count": null,
   "metadata": {},
   "outputs": [],
   "source": [
    "\n",
    "Apple = Me('Apple', 2, 4, 64, 'iPhone X')\n",
    "print('The person is:', Apple.friend)\n",
    "\n",
    "\n",
    "friend1 = friend(\"Karissa\",\"Friend\")\n",
    "friend2 = friend(\"Reema\",\"Friend\")\n",
    "friend3 = friend(\"Elena\",\"Friend\")\n",
    "\n",
    "\n",
    "def introduce():\n",
    "   print(\"My name is \" + self.fname) \n",
    "\n"
   ]
  },
  {
   "cell_type": "markdown",
   "metadata": {},
   "source": [
    "Make a class called Wonky. wonky has 2 variables is_sleeping and is_happy.\n",
    "Include 2 functions called sleep, wake_up.\n",
    "sleep function should change your is_sleeping to True and is_happy to True\n",
    "wake_up function should change is_sleeping to False and is_happy to False"
   ]
  },
  {
   "cell_type": "code",
   "execution_count": null,
   "metadata": {},
   "outputs": [],
   "source": [
    "class Wonky:\n",
    "    def __init__(self, is_sleeping,is_happy):\n",
    "        self.is_sleeping = is_sleeping\n",
    "        self.is_happy = is_happy\n",
    "        \n",
    "    def sleep(self):\n",
    "        self.is_sleeping = True\n",
    "        self.is_happy = True\n",
    "\n",
    "    def wake_up(self):\n",
    "        self.is_sitting = False\n",
    "        self.is_happy = False\n"
   ]
  },
  {
   "cell_type": "markdown",
   "metadata": {},
   "source": [
    "Make an instance called w and make him go to sleep. Print out what those values are when you make w go to sleep."
   ]
  },
  {
   "cell_type": "code",
   "execution_count": null,
   "metadata": {},
   "outputs": [],
   "source": [
    "w = Wonky(\"False\", \"False\")\n",
    "w.sleep()\n",
    "print(w.is_sleeping)\n",
    "print(w.is_happy)"
   ]
  },
  {
   "cell_type": "markdown",
   "metadata": {},
   "source": [
    "Make a try except for a Zerodivision exception. And try it out"
   ]
  },
  {
   "cell_type": "code",
   "execution_count": 5,
   "metadata": {},
   "outputs": [
    {
     "name": "stdout",
     "output_type": "stream",
     "text": [
      "Give me a number 2\n",
      "Give me another number 4\n",
      "0.5\n"
     ]
    }
   ],
   "source": [
    "x = int(input(\"Give me a number \"))\n",
    "y = int(input(\"Give me another number \"))\n",
    "\n",
    "def divide(x, y):\n",
    "    z = x / y\n",
    "    print (z)\n",
    "\n",
    "try:\n",
    "    divide(x,y)\n",
    "except ZeroDivisionError:\n",
    "        print(\"That's an error\")"
   ]
  },
  {
   "cell_type": "markdown",
   "metadata": {},
   "source": [
    "### Make a try except with a general exception and a else statement. "
   ]
  },
  {
   "cell_type": "code",
   "execution_count": 22,
   "metadata": {},
   "outputs": [
    {
     "name": "stdout",
     "output_type": "stream",
     "text": [
      "Give me a number 5\n",
      "Give me another number 2\n",
      "2.5\n",
      "Oh MATH!\n"
     ]
    }
   ],
   "source": [
    "x = int(input(\"Give me a number \"))\n",
    "y = int(input(\"Give me another number \"))\n",
    "try:\n",
    "   divide(x,y)\n",
    "except ZeroDivisionError:\n",
    "        print(\"That's an error\")\n",
    "else:\n",
    "        print(\"Oh MATH!\")"
   ]
  },
  {
   "cell_type": "markdown",
   "metadata": {},
   "source": [
    "Explain OOP to yourself and what are the three unique defining things of OOP?"
   ]
  },
  {
   "cell_type": "code",
   "execution_count": null,
   "metadata": {},
   "outputs": [],
   "source": [
    "#OOP is about \"has an\" rather than \"is an\"... So an animal \"has a\" tail"
   ]
  },
  {
   "cell_type": "markdown",
   "metadata": {},
   "source": [
    "Make an example of polymorphism and comment where the polymorphism is occuring. What is polymorphism?"
   ]
  },
  {
   "cell_type": "code",
   "execution_count": 27,
   "metadata": {},
   "outputs": [
    {
     "name": "stdout",
     "output_type": "stream",
     "text": [
      "This chip is just ok: Cheeto\n",
      "This chip is better: Doritos\n"
     ]
    }
   ],
   "source": [
    "class Chips(object):\n",
    "    def __init__(self,type):\n",
    "        self.type = type\n",
    "    def move(self):\n",
    "        print(f\"This chip is just ok: {self.type}\")\n",
    "class Lays(Chips):\n",
    "    def __init__(self, type):\n",
    "        super().__init__(type)\n",
    "    def move(self):\n",
    "        print(f\"This chip is better: {self.type}\")\n",
    "        \n",
    "try1 = Chips(\"Cheeto\")\n",
    "try2 = Lays(\"Doritos\")\n",
    "try1.move()\n",
    "try2.move()\n"
   ]
  },
  {
   "cell_type": "markdown",
   "metadata": {},
   "source": [
    "Explain what composition is versus inheritance?"
   ]
  },
  {
   "cell_type": "code",
   "execution_count": null,
   "metadata": {},
   "outputs": [],
   "source": [
    "#Composition allows us reuse code by adding objects \n",
    "#inheritance relies on repeated code tht seems to require more maintenance as things change"
   ]
  },
  {
   "cell_type": "markdown",
   "metadata": {},
   "source": [
    "Make a Vehicle class and allow the car, truck, and tank class inherit from it. "
   ]
  },
  {
   "cell_type": "code",
   "execution_count": 36,
   "metadata": {},
   "outputs": [
    {
     "name": "stdout",
     "output_type": "stream",
     "text": [
      "The tank color is: Camo\n"
     ]
    }
   ],
   "source": [
    "class Vehicle():\n",
    "    def __init__(self, color, door):\n",
    "        self.color = color\n",
    "        self.door = door\n",
    "    \n",
    "class Car(Vehicle):\n",
    "    def __init__(self, color, door, nostorage):\n",
    "        super().__init__(color, door, [])\n",
    "        self.nostorage = nostorage\n",
    "        \n",
    "class Truck(Vehicle):\n",
    "    def __init__(self, color, door, tow):\n",
    "        super().__init__(color, door)\n",
    "        self.tow = tow\n",
    "        \n",
    "class Tank(Vehicle):\n",
    "    def __init__(self, color, door, weapon):\n",
    "        super().__init__(color, door)\n",
    "        self.weapon = weapon\n",
    "        \n",
    "Try1 = Tank('Camo', 8, 'Nukes')\n",
    "print('The tank color is:', Try1.color)"
   ]
  },
  {
   "cell_type": "markdown",
   "metadata": {},
   "source": [
    "Explain a is-a versus has-a relationship.\n",
    "Explain how many types of relationships there are OOP. What are the three?"
   ]
  },
  {
   "cell_type": "code",
   "execution_count": null,
   "metadata": {},
   "outputs": [],
   "source": [
    "#A dog is a category and it can have objects associated with it shared across other dogs or mammals. \n",
    "#For example, a cat has a tail and so does a dog."
   ]
  },
  {
   "cell_type": "markdown",
   "metadata": {},
   "source": [
    "Create a protected variable/attribute for your Vehicle class now"
   ]
  },
  {
   "cell_type": "code",
   "execution_count": 46,
   "metadata": {},
   "outputs": [
    {
     "name": "stdout",
     "output_type": "stream",
     "text": [
      "The tank color is: Camo\n",
      "The tank price is: 555555\n"
     ]
    }
   ],
   "source": [
    "class Vehicle():\n",
    "    def __init__(self, color, door, price):\n",
    "        self.color = color\n",
    "        self.door = door\n",
    "        self._price = price\n",
    "    \n",
    "class Car(Vehicle):\n",
    "    def __init__(self, color, door, price, nostorage):\n",
    "        super().__init__(color, door, price)\n",
    "        self.nostorage = nostorage\n",
    "        \n",
    "class Truck(Vehicle):\n",
    "    def __init__(self, color, door, price, tow):\n",
    "        super().__init__(color, door, price)\n",
    "        self.tow = tow\n",
    "        \n",
    "class Tank(Vehicle):\n",
    "    def __init__(self, color, door, price, weapon):\n",
    "        super().__init__(color, door, price)\n",
    "        self.weapon = weapon\n",
    "        \n",
    "Try1 = Tank('Camo', 8, 555555, 'Nukes')\n",
    "print('The tank color is:', Try1.color)\n",
    "print('The tank price is:', Try1._price)\n"
   ]
  },
  {
   "cell_type": "markdown",
   "metadata": {},
   "source": [
    "Create a private variable/attribute in your Vehicle class now"
   ]
  },
  {
   "cell_type": "code",
   "execution_count": 49,
   "metadata": {},
   "outputs": [
    {
     "name": "stdout",
     "output_type": "stream",
     "text": [
      "The tank color is: Camo\n"
     ]
    },
    {
     "ename": "AttributeError",
     "evalue": "'Tank' object has no attribute '__price'",
     "output_type": "error",
     "traceback": [
      "\u001b[0;31m---------------------------------------------------------------------------\u001b[0m",
      "\u001b[0;31mAttributeError\u001b[0m                            Traceback (most recent call last)",
      "\u001b[0;32m<ipython-input-49-41a550263572>\u001b[0m in \u001b[0;36m<module>\u001b[0;34m\u001b[0m\n\u001b[1;32m     22\u001b[0m \u001b[0mTry2\u001b[0m \u001b[0;34m=\u001b[0m \u001b[0mTank\u001b[0m\u001b[0;34m(\u001b[0m\u001b[0;34m'Camo'\u001b[0m\u001b[0;34m,\u001b[0m \u001b[0;36m8\u001b[0m\u001b[0;34m,\u001b[0m \u001b[0;36m555555\u001b[0m\u001b[0;34m,\u001b[0m \u001b[0;34m'Nukes'\u001b[0m\u001b[0;34m)\u001b[0m\u001b[0;34m\u001b[0m\u001b[0;34m\u001b[0m\u001b[0m\n\u001b[1;32m     23\u001b[0m \u001b[0mprint\u001b[0m\u001b[0;34m(\u001b[0m\u001b[0;34m'The tank color is:'\u001b[0m\u001b[0;34m,\u001b[0m \u001b[0mTry1\u001b[0m\u001b[0;34m.\u001b[0m\u001b[0mcolor\u001b[0m\u001b[0;34m)\u001b[0m\u001b[0;34m\u001b[0m\u001b[0;34m\u001b[0m\u001b[0m\n\u001b[0;32m---> 24\u001b[0;31m \u001b[0mprint\u001b[0m\u001b[0;34m(\u001b[0m\u001b[0;34m'The tank price is:'\u001b[0m\u001b[0;34m,\u001b[0m \u001b[0mTry1\u001b[0m\u001b[0;34m.\u001b[0m\u001b[0m__price\u001b[0m\u001b[0;34m)\u001b[0m\u001b[0;34m\u001b[0m\u001b[0;34m\u001b[0m\u001b[0m\n\u001b[0m",
      "\u001b[0;31mAttributeError\u001b[0m: 'Tank' object has no attribute '__price'"
     ]
    }
   ],
   "source": [
    "class Vehicle():\n",
    "    def __init__(self, color, door, price):\n",
    "        self.color = color\n",
    "        self.door = door\n",
    "        self.__price = price\n",
    "    \n",
    "class Car(Vehicle):\n",
    "    def __init__(self, color, door, price, nostorage):\n",
    "        super().__init__(color, door, price)\n",
    "        self.nostorage = nostorage\n",
    "        \n",
    "class Truck(Vehicle):\n",
    "    def __init__(self, color, door, price, tow):\n",
    "        super().__init__(color, door, price)\n",
    "        self.tow = tow\n",
    "        \n",
    "class Tank(Vehicle):\n",
    "    def __init__(self, color, door, price, weapon):\n",
    "        super().__init__(color, door, price)\n",
    "        self.weapon = weapon\n",
    "        \n",
    "Try2 = Tank('Camo', 8, 555555, 'Nukes')\n",
    "print('The tank color is:', Try1.color)\n",
    "print('The tank price is:', Try1.__price)"
   ]
  },
  {
   "cell_type": "markdown",
   "metadata": {},
   "source": [
    "Can I access the protected and private variables? (Yes or No and why?)"
   ]
  },
  {
   "cell_type": "code",
   "execution_count": null,
   "metadata": {},
   "outputs": [],
   "source": [
    "#Yes they can still be accessed with the underscores. "
   ]
  }
 ],
 "metadata": {
  "kernelspec": {
   "display_name": "Python 3",
   "language": "python",
   "name": "python3"
  },
  "language_info": {
   "codemirror_mode": {
    "name": "ipython",
    "version": 3
   },
   "file_extension": ".py",
   "mimetype": "text/x-python",
   "name": "python",
   "nbconvert_exporter": "python",
   "pygments_lexer": "ipython3",
   "version": "3.7.6"
  }
 },
 "nbformat": 4,
 "nbformat_minor": 4
}
